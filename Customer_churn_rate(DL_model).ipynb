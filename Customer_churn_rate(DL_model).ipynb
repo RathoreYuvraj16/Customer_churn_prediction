{
 "cells": [
  {
   "cell_type": "code",
   "execution_count": 1,
   "id": "a77a3422",
   "metadata": {},
   "outputs": [],
   "source": [
    "import numpy as np \n",
    "import pandas as pd"
   ]
  },
  {
   "cell_type": "code",
   "execution_count": 2,
   "id": "f90a7cd1",
   "metadata": {},
   "outputs": [],
   "source": [
    "df = pd.read_csv(r\"C:\\Users\\Hp\\Downloads\\churn.csv\")"
   ]
  },
  {
   "cell_type": "code",
   "execution_count": 3,
   "id": "a21cdbbd",
   "metadata": {},
   "outputs": [
    {
     "data": {
      "text/html": [
       "<div>\n",
       "<style scoped>\n",
       "    .dataframe tbody tr th:only-of-type {\n",
       "        vertical-align: middle;\n",
       "    }\n",
       "\n",
       "    .dataframe tbody tr th {\n",
       "        vertical-align: top;\n",
       "    }\n",
       "\n",
       "    .dataframe thead th {\n",
       "        text-align: right;\n",
       "    }\n",
       "</style>\n",
       "<table border=\"1\" class=\"dataframe\">\n",
       "  <thead>\n",
       "    <tr style=\"text-align: right;\">\n",
       "      <th></th>\n",
       "      <th>RowNumber</th>\n",
       "      <th>CustomerId</th>\n",
       "      <th>Surname</th>\n",
       "      <th>CreditScore</th>\n",
       "      <th>Geography</th>\n",
       "      <th>Gender</th>\n",
       "      <th>Age</th>\n",
       "      <th>Tenure</th>\n",
       "      <th>Balance</th>\n",
       "      <th>NumOfProducts</th>\n",
       "      <th>HasCrCard</th>\n",
       "      <th>IsActiveMember</th>\n",
       "      <th>EstimatedSalary</th>\n",
       "      <th>Exited</th>\n",
       "    </tr>\n",
       "  </thead>\n",
       "  <tbody>\n",
       "    <tr>\n",
       "      <th>0</th>\n",
       "      <td>1</td>\n",
       "      <td>15634602</td>\n",
       "      <td>Hargrave</td>\n",
       "      <td>619</td>\n",
       "      <td>France</td>\n",
       "      <td>Female</td>\n",
       "      <td>42</td>\n",
       "      <td>2</td>\n",
       "      <td>0.00</td>\n",
       "      <td>1</td>\n",
       "      <td>1</td>\n",
       "      <td>1</td>\n",
       "      <td>101348.88</td>\n",
       "      <td>1</td>\n",
       "    </tr>\n",
       "    <tr>\n",
       "      <th>1</th>\n",
       "      <td>2</td>\n",
       "      <td>15647311</td>\n",
       "      <td>Hill</td>\n",
       "      <td>608</td>\n",
       "      <td>Spain</td>\n",
       "      <td>Female</td>\n",
       "      <td>41</td>\n",
       "      <td>1</td>\n",
       "      <td>83807.86</td>\n",
       "      <td>1</td>\n",
       "      <td>0</td>\n",
       "      <td>1</td>\n",
       "      <td>112542.58</td>\n",
       "      <td>0</td>\n",
       "    </tr>\n",
       "    <tr>\n",
       "      <th>2</th>\n",
       "      <td>3</td>\n",
       "      <td>15619304</td>\n",
       "      <td>Onio</td>\n",
       "      <td>502</td>\n",
       "      <td>France</td>\n",
       "      <td>Female</td>\n",
       "      <td>42</td>\n",
       "      <td>8</td>\n",
       "      <td>159660.80</td>\n",
       "      <td>3</td>\n",
       "      <td>1</td>\n",
       "      <td>0</td>\n",
       "      <td>113931.57</td>\n",
       "      <td>1</td>\n",
       "    </tr>\n",
       "    <tr>\n",
       "      <th>3</th>\n",
       "      <td>4</td>\n",
       "      <td>15701354</td>\n",
       "      <td>Boni</td>\n",
       "      <td>699</td>\n",
       "      <td>France</td>\n",
       "      <td>Female</td>\n",
       "      <td>39</td>\n",
       "      <td>1</td>\n",
       "      <td>0.00</td>\n",
       "      <td>2</td>\n",
       "      <td>0</td>\n",
       "      <td>0</td>\n",
       "      <td>93826.63</td>\n",
       "      <td>0</td>\n",
       "    </tr>\n",
       "    <tr>\n",
       "      <th>4</th>\n",
       "      <td>5</td>\n",
       "      <td>15737888</td>\n",
       "      <td>Mitchell</td>\n",
       "      <td>850</td>\n",
       "      <td>Spain</td>\n",
       "      <td>Female</td>\n",
       "      <td>43</td>\n",
       "      <td>2</td>\n",
       "      <td>125510.82</td>\n",
       "      <td>1</td>\n",
       "      <td>1</td>\n",
       "      <td>1</td>\n",
       "      <td>79084.10</td>\n",
       "      <td>0</td>\n",
       "    </tr>\n",
       "  </tbody>\n",
       "</table>\n",
       "</div>"
      ],
      "text/plain": [
       "   RowNumber  CustomerId   Surname  CreditScore Geography  Gender  Age  \\\n",
       "0          1    15634602  Hargrave          619    France  Female   42   \n",
       "1          2    15647311      Hill          608     Spain  Female   41   \n",
       "2          3    15619304      Onio          502    France  Female   42   \n",
       "3          4    15701354      Boni          699    France  Female   39   \n",
       "4          5    15737888  Mitchell          850     Spain  Female   43   \n",
       "\n",
       "   Tenure    Balance  NumOfProducts  HasCrCard  IsActiveMember  \\\n",
       "0       2       0.00              1          1               1   \n",
       "1       1   83807.86              1          0               1   \n",
       "2       8  159660.80              3          1               0   \n",
       "3       1       0.00              2          0               0   \n",
       "4       2  125510.82              1          1               1   \n",
       "\n",
       "   EstimatedSalary  Exited  \n",
       "0        101348.88       1  \n",
       "1        112542.58       0  \n",
       "2        113931.57       1  \n",
       "3         93826.63       0  \n",
       "4         79084.10       0  "
      ]
     },
     "execution_count": 3,
     "metadata": {},
     "output_type": "execute_result"
    }
   ],
   "source": [
    "df.head()"
   ]
  },
  {
   "cell_type": "code",
   "execution_count": 4,
   "id": "be33e825",
   "metadata": {},
   "outputs": [],
   "source": [
    "df.drop(columns = ['RowNumber','CustomerId','Surname'],inplace=True)"
   ]
  },
  {
   "cell_type": "code",
   "execution_count": 5,
   "id": "8ec2d51c",
   "metadata": {},
   "outputs": [
    {
     "data": {
      "text/html": [
       "<div>\n",
       "<style scoped>\n",
       "    .dataframe tbody tr th:only-of-type {\n",
       "        vertical-align: middle;\n",
       "    }\n",
       "\n",
       "    .dataframe tbody tr th {\n",
       "        vertical-align: top;\n",
       "    }\n",
       "\n",
       "    .dataframe thead th {\n",
       "        text-align: right;\n",
       "    }\n",
       "</style>\n",
       "<table border=\"1\" class=\"dataframe\">\n",
       "  <thead>\n",
       "    <tr style=\"text-align: right;\">\n",
       "      <th></th>\n",
       "      <th>CreditScore</th>\n",
       "      <th>Geography</th>\n",
       "      <th>Gender</th>\n",
       "      <th>Age</th>\n",
       "      <th>Tenure</th>\n",
       "      <th>Balance</th>\n",
       "      <th>NumOfProducts</th>\n",
       "      <th>HasCrCard</th>\n",
       "      <th>IsActiveMember</th>\n",
       "      <th>EstimatedSalary</th>\n",
       "      <th>Exited</th>\n",
       "    </tr>\n",
       "  </thead>\n",
       "  <tbody>\n",
       "    <tr>\n",
       "      <th>0</th>\n",
       "      <td>619</td>\n",
       "      <td>France</td>\n",
       "      <td>Female</td>\n",
       "      <td>42</td>\n",
       "      <td>2</td>\n",
       "      <td>0.00</td>\n",
       "      <td>1</td>\n",
       "      <td>1</td>\n",
       "      <td>1</td>\n",
       "      <td>101348.88</td>\n",
       "      <td>1</td>\n",
       "    </tr>\n",
       "    <tr>\n",
       "      <th>1</th>\n",
       "      <td>608</td>\n",
       "      <td>Spain</td>\n",
       "      <td>Female</td>\n",
       "      <td>41</td>\n",
       "      <td>1</td>\n",
       "      <td>83807.86</td>\n",
       "      <td>1</td>\n",
       "      <td>0</td>\n",
       "      <td>1</td>\n",
       "      <td>112542.58</td>\n",
       "      <td>0</td>\n",
       "    </tr>\n",
       "    <tr>\n",
       "      <th>2</th>\n",
       "      <td>502</td>\n",
       "      <td>France</td>\n",
       "      <td>Female</td>\n",
       "      <td>42</td>\n",
       "      <td>8</td>\n",
       "      <td>159660.80</td>\n",
       "      <td>3</td>\n",
       "      <td>1</td>\n",
       "      <td>0</td>\n",
       "      <td>113931.57</td>\n",
       "      <td>1</td>\n",
       "    </tr>\n",
       "    <tr>\n",
       "      <th>3</th>\n",
       "      <td>699</td>\n",
       "      <td>France</td>\n",
       "      <td>Female</td>\n",
       "      <td>39</td>\n",
       "      <td>1</td>\n",
       "      <td>0.00</td>\n",
       "      <td>2</td>\n",
       "      <td>0</td>\n",
       "      <td>0</td>\n",
       "      <td>93826.63</td>\n",
       "      <td>0</td>\n",
       "    </tr>\n",
       "    <tr>\n",
       "      <th>4</th>\n",
       "      <td>850</td>\n",
       "      <td>Spain</td>\n",
       "      <td>Female</td>\n",
       "      <td>43</td>\n",
       "      <td>2</td>\n",
       "      <td>125510.82</td>\n",
       "      <td>1</td>\n",
       "      <td>1</td>\n",
       "      <td>1</td>\n",
       "      <td>79084.10</td>\n",
       "      <td>0</td>\n",
       "    </tr>\n",
       "  </tbody>\n",
       "</table>\n",
       "</div>"
      ],
      "text/plain": [
       "   CreditScore Geography  Gender  Age  Tenure    Balance  NumOfProducts  \\\n",
       "0          619    France  Female   42       2       0.00              1   \n",
       "1          608     Spain  Female   41       1   83807.86              1   \n",
       "2          502    France  Female   42       8  159660.80              3   \n",
       "3          699    France  Female   39       1       0.00              2   \n",
       "4          850     Spain  Female   43       2  125510.82              1   \n",
       "\n",
       "   HasCrCard  IsActiveMember  EstimatedSalary  Exited  \n",
       "0          1               1        101348.88       1  \n",
       "1          0               1        112542.58       0  \n",
       "2          1               0        113931.57       1  \n",
       "3          0               0         93826.63       0  \n",
       "4          1               1         79084.10       0  "
      ]
     },
     "execution_count": 5,
     "metadata": {},
     "output_type": "execute_result"
    }
   ],
   "source": [
    "df.head()"
   ]
  },
  {
   "cell_type": "code",
   "execution_count": 6,
   "id": "abd30340",
   "metadata": {},
   "outputs": [
    {
     "name": "stdout",
     "output_type": "stream",
     "text": [
      "<class 'pandas.core.frame.DataFrame'>\n",
      "RangeIndex: 10000 entries, 0 to 9999\n",
      "Data columns (total 11 columns):\n",
      " #   Column           Non-Null Count  Dtype  \n",
      "---  ------           --------------  -----  \n",
      " 0   CreditScore      10000 non-null  int64  \n",
      " 1   Geography        10000 non-null  object \n",
      " 2   Gender           10000 non-null  object \n",
      " 3   Age              10000 non-null  int64  \n",
      " 4   Tenure           10000 non-null  int64  \n",
      " 5   Balance          10000 non-null  float64\n",
      " 6   NumOfProducts    10000 non-null  int64  \n",
      " 7   HasCrCard        10000 non-null  int64  \n",
      " 8   IsActiveMember   10000 non-null  int64  \n",
      " 9   EstimatedSalary  10000 non-null  float64\n",
      " 10  Exited           10000 non-null  int64  \n",
      "dtypes: float64(2), int64(7), object(2)\n",
      "memory usage: 859.5+ KB\n"
     ]
    }
   ],
   "source": [
    "df.info()"
   ]
  },
  {
   "cell_type": "code",
   "execution_count": 7,
   "id": "ac5c2045",
   "metadata": {},
   "outputs": [
    {
     "data": {
      "text/plain": [
       "0"
      ]
     },
     "execution_count": 7,
     "metadata": {},
     "output_type": "execute_result"
    }
   ],
   "source": [
    "df.duplicated().sum()"
   ]
  },
  {
   "cell_type": "code",
   "execution_count": 8,
   "id": "ef9463d8",
   "metadata": {},
   "outputs": [
    {
     "data": {
      "text/plain": [
       "France     5014\n",
       "Germany    2509\n",
       "Spain      2477\n",
       "Name: Geography, dtype: int64"
      ]
     },
     "execution_count": 8,
     "metadata": {},
     "output_type": "execute_result"
    }
   ],
   "source": [
    "df['Geography'].value_counts()"
   ]
  },
  {
   "cell_type": "code",
   "execution_count": 9,
   "id": "c92405fe",
   "metadata": {},
   "outputs": [
    {
     "data": {
      "text/plain": [
       "Male      5457\n",
       "Female    4543\n",
       "Name: Gender, dtype: int64"
      ]
     },
     "execution_count": 9,
     "metadata": {},
     "output_type": "execute_result"
    }
   ],
   "source": [
    "df['Gender'].value_counts()"
   ]
  },
  {
   "cell_type": "code",
   "execution_count": 10,
   "id": "1ce86736",
   "metadata": {},
   "outputs": [
    {
     "data": {
      "text/plain": [
       "0    7963\n",
       "1    2037\n",
       "Name: Exited, dtype: int64"
      ]
     },
     "execution_count": 10,
     "metadata": {},
     "output_type": "execute_result"
    }
   ],
   "source": [
    "df['Exited'].value_counts()"
   ]
  },
  {
   "cell_type": "code",
   "execution_count": 11,
   "id": "debb5fda",
   "metadata": {},
   "outputs": [],
   "source": [
    "#handling imbalance data (UNDER SAMPLING)"
   ]
  },
  {
   "cell_type": "markdown",
   "id": "363ae37b",
   "metadata": {},
   "source": [
    "#using under sampling( in tis process we will be taking all the points from category having less counts and we will randomly sample same number of counts from the category having high value counts\n",
    "example- Excited column= 7964 (0's), 2037 (1's) so in this we will have all values of 1 and we will randomly sample 2037 values from 0. it should only be peform when we have huge number of data set"
   ]
  },
  {
   "cell_type": "code",
   "execution_count": 12,
   "id": "b7fe7101",
   "metadata": {},
   "outputs": [],
   "source": [
    "X = df.drop(columns=['Exited'])\n",
    "y = df['Exited'].values"
   ]
  },
  {
   "cell_type": "code",
   "execution_count": 13,
   "id": "b81c85d9",
   "metadata": {},
   "outputs": [],
   "source": [
    "#Converting categorucal variables to numerical"
   ]
  },
  {
   "cell_type": "code",
   "execution_count": 14,
   "id": "12a1f861",
   "metadata": {},
   "outputs": [
    {
     "name": "stderr",
     "output_type": "stream",
     "text": [
      "C:\\Users\\Hp\\anaconda3\\lib\\site-packages\\scipy\\__init__.py:146: UserWarning: A NumPy version >=1.16.5 and <1.23.0 is required for this version of SciPy (detected version 1.26.3\n",
      "  warnings.warn(f\"A NumPy version >={np_minversion} and <{np_maxversion}\"\n"
     ]
    }
   ],
   "source": [
    "from sklearn.preprocessing import OneHotEncoder\n",
    "one_hot_encoder = OneHotEncoder(drop='first', sparse=False)\n",
    "geo = one_hot_encoder.fit_transform(df[['Geography']])\n",
    "gender = one_hot_encoder.fit_transform(df[['Gender']])"
   ]
  },
  {
   "cell_type": "code",
   "execution_count": 15,
   "id": "9b0c0560",
   "metadata": {},
   "outputs": [],
   "source": [
    "X_rem = X.drop(columns=['Geography','Gender'])\n",
    "#X_rem"
   ]
  },
  {
   "cell_type": "code",
   "execution_count": 16,
   "id": "4ef03caf",
   "metadata": {},
   "outputs": [],
   "source": [
    "X_new = np.concatenate((X_rem,geo,gender),axis=1)"
   ]
  },
  {
   "cell_type": "code",
   "execution_count": 17,
   "id": "efa7830a",
   "metadata": {},
   "outputs": [
    {
     "data": {
      "text/plain": [
       "(10000, 11)"
      ]
     },
     "execution_count": 17,
     "metadata": {},
     "output_type": "execute_result"
    }
   ],
   "source": [
    "X_new.shape"
   ]
  },
  {
   "cell_type": "markdown",
   "id": "4e9af382",
   "metadata": {},
   "source": [
    "# handling imbalance data (UNDER SAMPLING)\n",
    "\n",
    "#using under sampling( in tis process we will be taking all the points from category having less counts and we will randomly sample same number of counts from the category having high value counts\n",
    "example- Excited column= 7964 (0's), 2037 (1's) so in this we will have all values of 1 and we will randomly sample 2037 values from 0. it should only be peform when we have huge number of data set"
   ]
  },
  {
   "cell_type": "code",
   "execution_count": 18,
   "id": "5b0d5187",
   "metadata": {},
   "outputs": [],
   "source": [
    "no = df[df['Exited']==0]\n",
    "yes = df[df['Exited']==1]"
   ]
  },
  {
   "cell_type": "code",
   "execution_count": 19,
   "id": "b4d6f057",
   "metadata": {},
   "outputs": [
    {
     "name": "stdout",
     "output_type": "stream",
     "text": [
      "(7963, 11) (2037, 11)\n"
     ]
    }
   ],
   "source": [
    "print(no.shape,yes.shape)"
   ]
  },
  {
   "cell_type": "code",
   "execution_count": 20,
   "id": "34ec46fb",
   "metadata": {},
   "outputs": [],
   "source": [
    "#!pip install imblearn\n",
    "from imblearn.under_sampling import RandomUnderSampler"
   ]
  },
  {
   "cell_type": "code",
   "execution_count": 21,
   "id": "336eae13",
   "metadata": {},
   "outputs": [],
   "source": [
    "#implementing undersampling\n",
    "rs = RandomUnderSampler()"
   ]
  },
  {
   "cell_type": "code",
   "execution_count": 22,
   "id": "0e0c7f38",
   "metadata": {},
   "outputs": [],
   "source": [
    "X_res,y_res =rs.fit_resample(X_new,y)"
   ]
  },
  {
   "cell_type": "code",
   "execution_count": 23,
   "id": "3258de6e",
   "metadata": {},
   "outputs": [
    {
     "data": {
      "text/plain": [
       "((4074, 11), (4074,))"
      ]
     },
     "execution_count": 23,
     "metadata": {},
     "output_type": "execute_result"
    }
   ],
   "source": [
    "X_res.shape,y_res.shape"
   ]
  },
  {
   "cell_type": "code",
   "execution_count": 24,
   "id": "3af51bc7",
   "metadata": {},
   "outputs": [
    {
     "name": "stdout",
     "output_type": "stream",
     "text": [
      "Originol dataset shape Counter({0: 7963, 1: 2037})\n",
      "resample dataset shape Counter({0: 2037, 1: 2037})\n"
     ]
    }
   ],
   "source": [
    "from collections import Counter\n",
    "print('Originol dataset shape {}'.format(Counter(y)))\n",
    "print('resample dataset shape {}'.format(Counter(y_res)))"
   ]
  },
  {
   "cell_type": "markdown",
   "id": "1ab1e226",
   "metadata": {},
   "source": [
    "# handling imbalanced data (OVER SAMPLING)"
   ]
  },
  {
   "cell_type": "markdown",
   "id": "94e012d8",
   "metadata": {},
   "source": [
    "in oversampling we create a new data set having similar number of highest values and for less count category we increase that points in same dimension \n",
    "example - in exited = 0's are 7963 and 1's are 2037 so we will have same number of 0;s in new data set where as 1's will be increased to maintain the ratio 1:1"
   ]
  },
  {
   "cell_type": "code",
   "execution_count": 25,
   "id": "a9ab0a18",
   "metadata": {},
   "outputs": [],
   "source": [
    "from imblearn.combine import SMOTETomek"
   ]
  },
  {
   "cell_type": "code",
   "execution_count": 26,
   "id": "04e8637d",
   "metadata": {},
   "outputs": [],
   "source": [
    "smk = SMOTETomek(random_state=42)\n"
   ]
  },
  {
   "cell_type": "code",
   "execution_count": 27,
   "id": "935be243",
   "metadata": {},
   "outputs": [],
   "source": [
    "X_upsam,y_upsam = smk.fit_resample(X_new,y)"
   ]
  },
  {
   "cell_type": "code",
   "execution_count": 28,
   "id": "ef827d8b",
   "metadata": {},
   "outputs": [
    {
     "data": {
      "text/plain": [
       "((13778, 11), (13778,))"
      ]
     },
     "execution_count": 28,
     "metadata": {},
     "output_type": "execute_result"
    }
   ],
   "source": [
    "X_upsam.shape, y_upsam.shape"
   ]
  },
  {
   "cell_type": "code",
   "execution_count": 29,
   "id": "7dfa7654",
   "metadata": {},
   "outputs": [
    {
     "name": "stdout",
     "output_type": "stream",
     "text": [
      "Originol dataset shape Counter({0: 7963, 1: 2037})\n",
      "resample dataset shape Counter({1: 6889, 0: 6889})\n"
     ]
    }
   ],
   "source": [
    "from collections import Counter\n",
    "print('Originol dataset shape {}'.format(Counter(y)))\n",
    "print('resample dataset shape {}'.format(Counter(y_upsam)))"
   ]
  },
  {
   "cell_type": "markdown",
   "id": "1a2c4aca",
   "metadata": {},
   "source": [
    "# Model Building"
   ]
  },
  {
   "cell_type": "code",
   "execution_count": 30,
   "id": "10aafac2",
   "metadata": {},
   "outputs": [],
   "source": [
    "from sklearn.model_selection import train_test_split\n",
    "X_train,X_test,y_train,y_test = train_test_split(X_upsam,y_upsam,test_size=0.2,random_state=0)"
   ]
  },
  {
   "cell_type": "code",
   "execution_count": 31,
   "id": "e9b046ae",
   "metadata": {},
   "outputs": [],
   "source": [
    "from sklearn.preprocessing import StandardScaler\n",
    "scaler = StandardScaler()\n",
    "\n",
    "X_train_trf = scaler.fit_transform(X_train)\n",
    "X_test_trf = scaler.transform(X_test)"
   ]
  },
  {
   "cell_type": "code",
   "execution_count": 32,
   "id": "d89fccaa",
   "metadata": {},
   "outputs": [],
   "source": [
    "#pip install --upgrade tensorflow"
   ]
  },
  {
   "cell_type": "code",
   "execution_count": 33,
   "id": "d6654e4a",
   "metadata": {},
   "outputs": [
    {
     "name": "stdout",
     "output_type": "stream",
     "text": [
      "WARNING:tensorflow:From C:\\Users\\Hp\\anaconda3\\lib\\site-packages\\keras\\src\\losses.py:2976: The name tf.losses.sparse_softmax_cross_entropy is deprecated. Please use tf.compat.v1.losses.sparse_softmax_cross_entropy instead.\n",
      "\n"
     ]
    }
   ],
   "source": [
    "import tensorflow as tf"
   ]
  },
  {
   "cell_type": "code",
   "execution_count": 35,
   "id": "4ff8f422",
   "metadata": {},
   "outputs": [],
   "source": [
    "from tensorflow import keras\n",
    "from tensorflow.keras import Sequential \n",
    "from tensorflow.keras.layers import Dense"
   ]
  },
  {
   "cell_type": "code",
   "execution_count": 37,
   "id": "35b60281",
   "metadata": {},
   "outputs": [],
   "source": [
    "model = Sequential()\n",
    "\n",
    "model.add(Dense(11,activation='relu',input_dim=11))\n",
    "model.add(Dense(11,activation='relu'))\n",
    "model.add(Dense(1,activation='sigmoid'))"
   ]
  },
  {
   "cell_type": "code",
   "execution_count": 38,
   "id": "c74d511d",
   "metadata": {},
   "outputs": [
    {
     "name": "stdout",
     "output_type": "stream",
     "text": [
      "Model: \"sequential_1\"\n",
      "_________________________________________________________________\n",
      " Layer (type)                Output Shape              Param #   \n",
      "=================================================================\n",
      " dense_3 (Dense)             (None, 11)                132       \n",
      "                                                                 \n",
      " dense_4 (Dense)             (None, 11)                132       \n",
      "                                                                 \n",
      " dense_5 (Dense)             (None, 1)                 12        \n",
      "                                                                 \n",
      "=================================================================\n",
      "Total params: 276 (1.08 KB)\n",
      "Trainable params: 276 (1.08 KB)\n",
      "Non-trainable params: 0 (0.00 Byte)\n",
      "_________________________________________________________________\n"
     ]
    }
   ],
   "source": [
    "model.summary()"
   ]
  },
  {
   "cell_type": "code",
   "execution_count": 39,
   "id": "1b4478a4",
   "metadata": {},
   "outputs": [
    {
     "name": "stdout",
     "output_type": "stream",
     "text": [
      "WARNING:tensorflow:From C:\\Users\\Hp\\anaconda3\\lib\\site-packages\\keras\\src\\optimizers\\__init__.py:309: The name tf.train.Optimizer is deprecated. Please use tf.compat.v1.train.Optimizer instead.\n",
      "\n"
     ]
    }
   ],
   "source": [
    "model.compile(optimizer='Adam',loss='binary_crossentropy',metrics=['accuracy'])"
   ]
  },
  {
   "cell_type": "code",
   "execution_count": 40,
   "id": "a95953e0",
   "metadata": {},
   "outputs": [
    {
     "name": "stdout",
     "output_type": "stream",
     "text": [
      "Epoch 1/100\n",
      "WARNING:tensorflow:From C:\\Users\\Hp\\anaconda3\\lib\\site-packages\\keras\\src\\utils\\tf_utils.py:492: The name tf.ragged.RaggedTensorValue is deprecated. Please use tf.compat.v1.ragged.RaggedTensorValue instead.\n",
      "\n",
      "WARNING:tensorflow:From C:\\Users\\Hp\\anaconda3\\lib\\site-packages\\keras\\src\\engine\\base_layer_utils.py:384: The name tf.executing_eagerly_outside_functions is deprecated. Please use tf.compat.v1.executing_eagerly_outside_functions instead.\n",
      "\n",
      "177/177 [==============================] - 5s 12ms/step - loss: 781.1871 - accuracy: 0.5171 - val_loss: 112.2088 - val_accuracy: 0.5007\n",
      "Epoch 2/100\n",
      "177/177 [==============================] - 1s 7ms/step - loss: 74.1832 - accuracy: 0.5126 - val_loss: 81.2028 - val_accuracy: 0.5116\n",
      "Epoch 3/100\n",
      "177/177 [==============================] - 1s 8ms/step - loss: 61.0785 - accuracy: 0.5165 - val_loss: 68.9149 - val_accuracy: 0.5769\n",
      "Epoch 4/100\n",
      "177/177 [==============================] - 1s 8ms/step - loss: 56.5679 - accuracy: 0.5261 - val_loss: 40.4002 - val_accuracy: 0.5478\n",
      "Epoch 5/100\n",
      "177/177 [==============================] - 1s 7ms/step - loss: 47.7257 - accuracy: 0.5381 - val_loss: 40.3243 - val_accuracy: 0.5556\n",
      "Epoch 6/100\n",
      "177/177 [==============================] - 2s 11ms/step - loss: 44.2947 - accuracy: 0.5265 - val_loss: 22.9189 - val_accuracy: 0.5297\n",
      "Epoch 7/100\n",
      "177/177 [==============================] - 2s 10ms/step - loss: 36.1729 - accuracy: 0.5164 - val_loss: 18.0136 - val_accuracy: 0.5410\n",
      "Epoch 8/100\n",
      "177/177 [==============================] - 2s 10ms/step - loss: 36.5979 - accuracy: 0.5195 - val_loss: 68.2466 - val_accuracy: 0.5415\n",
      "Epoch 9/100\n",
      "177/177 [==============================] - 2s 9ms/step - loss: 44.0226 - accuracy: 0.5151 - val_loss: 19.6348 - val_accuracy: 0.5859\n",
      "Epoch 10/100\n",
      "177/177 [==============================] - 2s 9ms/step - loss: 40.9468 - accuracy: 0.5171 - val_loss: 69.0521 - val_accuracy: 0.4848\n",
      "Epoch 11/100\n",
      "177/177 [==============================] - 2s 9ms/step - loss: 35.9018 - accuracy: 0.5286 - val_loss: 17.9833 - val_accuracy: 0.5578\n",
      "Epoch 12/100\n",
      "177/177 [==============================] - 2s 9ms/step - loss: 46.3135 - accuracy: 0.5257 - val_loss: 42.2007 - val_accuracy: 0.5401\n",
      "Epoch 13/100\n",
      "177/177 [==============================] - 2s 9ms/step - loss: 38.6512 - accuracy: 0.5213 - val_loss: 56.0746 - val_accuracy: 0.4227\n",
      "Epoch 14/100\n",
      "177/177 [==============================] - 2s 9ms/step - loss: 48.0376 - accuracy: 0.5185 - val_loss: 75.0209 - val_accuracy: 0.4848\n",
      "Epoch 15/100\n",
      "177/177 [==============================] - 1s 8ms/step - loss: 36.8158 - accuracy: 0.5253 - val_loss: 55.4407 - val_accuracy: 0.5401\n",
      "Epoch 16/100\n",
      "177/177 [==============================] - 1s 8ms/step - loss: 53.5384 - accuracy: 0.5291 - val_loss: 37.0151 - val_accuracy: 0.5701\n",
      "Epoch 17/100\n",
      "177/177 [==============================] - 2s 9ms/step - loss: 33.8118 - accuracy: 0.5303 - val_loss: 36.4838 - val_accuracy: 0.5274\n",
      "Epoch 18/100\n",
      "177/177 [==============================] - 2s 9ms/step - loss: 43.9998 - accuracy: 0.5243 - val_loss: 35.8477 - val_accuracy: 0.5166\n",
      "Epoch 19/100\n",
      "177/177 [==============================] - 2s 9ms/step - loss: 31.2634 - accuracy: 0.5277 - val_loss: 24.0695 - val_accuracy: 0.5460\n",
      "Epoch 20/100\n",
      "177/177 [==============================] - 1s 8ms/step - loss: 38.6091 - accuracy: 0.5217 - val_loss: 35.0092 - val_accuracy: 0.5850\n",
      "Epoch 21/100\n",
      "177/177 [==============================] - 2s 9ms/step - loss: 23.3868 - accuracy: 0.5427 - val_loss: 38.4099 - val_accuracy: 0.4739\n",
      "Epoch 22/100\n",
      "177/177 [==============================] - 1s 8ms/step - loss: 27.9225 - accuracy: 0.5434 - val_loss: 44.6475 - val_accuracy: 0.4213\n",
      "Epoch 23/100\n",
      "177/177 [==============================] - 2s 9ms/step - loss: 34.2450 - accuracy: 0.5294 - val_loss: 36.2549 - val_accuracy: 0.5438\n",
      "Epoch 24/100\n",
      "177/177 [==============================] - 2s 9ms/step - loss: 42.7105 - accuracy: 0.5285 - val_loss: 10.4799 - val_accuracy: 0.5483\n",
      "Epoch 25/100\n",
      "177/177 [==============================] - 2s 9ms/step - loss: 36.1810 - accuracy: 0.5351 - val_loss: 34.9127 - val_accuracy: 0.5773\n",
      "Epoch 26/100\n",
      "177/177 [==============================] - 2s 9ms/step - loss: 42.8746 - accuracy: 0.5307 - val_loss: 23.5144 - val_accuracy: 0.5315\n",
      "Epoch 27/100\n",
      "177/177 [==============================] - 2s 9ms/step - loss: 32.1770 - accuracy: 0.5298 - val_loss: 19.7971 - val_accuracy: 0.5311\n",
      "Epoch 28/100\n",
      "177/177 [==============================] - 2s 9ms/step - loss: 30.7841 - accuracy: 0.5357 - val_loss: 24.6868 - val_accuracy: 0.5587\n",
      "Epoch 29/100\n",
      "177/177 [==============================] - 2s 9ms/step - loss: 26.9576 - accuracy: 0.5370 - val_loss: 20.4087 - val_accuracy: 0.5642\n",
      "Epoch 30/100\n",
      "177/177 [==============================] - 2s 9ms/step - loss: 36.2211 - accuracy: 0.5278 - val_loss: 65.0726 - val_accuracy: 0.5819\n",
      "Epoch 31/100\n",
      "177/177 [==============================] - 2s 9ms/step - loss: 40.1355 - accuracy: 0.5319 - val_loss: 44.7146 - val_accuracy: 0.4957\n",
      "Epoch 32/100\n",
      "177/177 [==============================] - 2s 9ms/step - loss: 35.8807 - accuracy: 0.5374 - val_loss: 46.4906 - val_accuracy: 0.4866\n",
      "Epoch 33/100\n",
      "177/177 [==============================] - 2s 9ms/step - loss: 22.2665 - accuracy: 0.5438 - val_loss: 37.0636 - val_accuracy: 0.5510\n",
      "Epoch 34/100\n",
      "177/177 [==============================] - 2s 9ms/step - loss: 34.3519 - accuracy: 0.5387 - val_loss: 31.8407 - val_accuracy: 0.4989\n",
      "Epoch 35/100\n",
      "177/177 [==============================] - 2s 9ms/step - loss: 42.4826 - accuracy: 0.5370 - val_loss: 22.4092 - val_accuracy: 0.5628\n",
      "Epoch 36/100\n",
      "177/177 [==============================] - 2s 9ms/step - loss: 30.2613 - accuracy: 0.5413 - val_loss: 17.8236 - val_accuracy: 0.5252\n",
      "Epoch 37/100\n",
      "177/177 [==============================] - 2s 9ms/step - loss: 29.1796 - accuracy: 0.5415 - val_loss: 27.5647 - val_accuracy: 0.5805\n",
      "Epoch 38/100\n",
      "177/177 [==============================] - 2s 9ms/step - loss: 38.3273 - accuracy: 0.5334 - val_loss: 33.1981 - val_accuracy: 0.5905\n",
      "Epoch 39/100\n",
      "177/177 [==============================] - 2s 10ms/step - loss: 33.1396 - accuracy: 0.5435 - val_loss: 16.9173 - val_accuracy: 0.5052\n",
      "Epoch 40/100\n",
      "177/177 [==============================] - 2s 10ms/step - loss: 30.7038 - accuracy: 0.5483 - val_loss: 13.3688 - val_accuracy: 0.5810\n",
      "Epoch 41/100\n",
      "177/177 [==============================] - 1s 8ms/step - loss: 26.3422 - accuracy: 0.5536 - val_loss: 13.7811 - val_accuracy: 0.5868\n",
      "Epoch 42/100\n",
      "177/177 [==============================] - 1s 8ms/step - loss: 28.0765 - accuracy: 0.5420 - val_loss: 28.4493 - val_accuracy: 0.5900\n",
      "Epoch 43/100\n",
      "177/177 [==============================] - 2s 9ms/step - loss: 31.1985 - accuracy: 0.5329 - val_loss: 27.3712 - val_accuracy: 0.5982\n",
      "Epoch 44/100\n",
      "177/177 [==============================] - 2s 9ms/step - loss: 37.0503 - accuracy: 0.5399 - val_loss: 28.0269 - val_accuracy: 0.5420\n",
      "Epoch 45/100\n",
      "177/177 [==============================] - 1s 8ms/step - loss: 32.2487 - accuracy: 0.5489 - val_loss: 83.0658 - val_accuracy: 0.4299\n",
      "Epoch 46/100\n",
      "177/177 [==============================] - 2s 10ms/step - loss: 25.7325 - accuracy: 0.5567 - val_loss: 22.9361 - val_accuracy: 0.5900\n",
      "Epoch 47/100\n",
      "177/177 [==============================] - 2s 9ms/step - loss: 28.0648 - accuracy: 0.5564 - val_loss: 48.6034 - val_accuracy: 0.5234\n",
      "Epoch 48/100\n",
      "177/177 [==============================] - 2s 9ms/step - loss: 27.0985 - accuracy: 0.5415 - val_loss: 22.5958 - val_accuracy: 0.5927\n",
      "Epoch 49/100\n",
      "177/177 [==============================] - 2s 9ms/step - loss: 29.0541 - accuracy: 0.5553 - val_loss: 19.1749 - val_accuracy: 0.6041\n",
      "Epoch 50/100\n",
      "177/177 [==============================] - 2s 10ms/step - loss: 41.7520 - accuracy: 0.5412 - val_loss: 30.9593 - val_accuracy: 0.5873\n",
      "Epoch 51/100\n",
      "177/177 [==============================] - 2s 10ms/step - loss: 28.7045 - accuracy: 0.5458 - val_loss: 38.9752 - val_accuracy: 0.4803\n",
      "Epoch 52/100\n",
      "177/177 [==============================] - 2s 9ms/step - loss: 27.9218 - accuracy: 0.5537 - val_loss: 38.2238 - val_accuracy: 0.5805\n",
      "Epoch 53/100\n",
      "177/177 [==============================] - 2s 9ms/step - loss: 32.2118 - accuracy: 0.5586 - val_loss: 30.9992 - val_accuracy: 0.5011\n",
      "Epoch 54/100\n"
     ]
    },
    {
     "name": "stdout",
     "output_type": "stream",
     "text": [
      "177/177 [==============================] - 1s 8ms/step - loss: 26.7932 - accuracy: 0.5446 - val_loss: 22.2300 - val_accuracy: 0.5537\n",
      "Epoch 55/100\n",
      "177/177 [==============================] - 1s 7ms/step - loss: 27.6573 - accuracy: 0.5537 - val_loss: 27.1340 - val_accuracy: 0.5179\n",
      "Epoch 56/100\n",
      "177/177 [==============================] - 1s 8ms/step - loss: 28.8248 - accuracy: 0.5542 - val_loss: 29.3050 - val_accuracy: 0.5265\n",
      "Epoch 57/100\n",
      "177/177 [==============================] - 1s 8ms/step - loss: 27.4253 - accuracy: 0.5446 - val_loss: 21.1990 - val_accuracy: 0.6073\n",
      "Epoch 58/100\n",
      "177/177 [==============================] - 1s 5ms/step - loss: 31.6281 - accuracy: 0.5445 - val_loss: 12.9275 - val_accuracy: 0.5905\n",
      "Epoch 59/100\n",
      "177/177 [==============================] - 1s 8ms/step - loss: 27.0768 - accuracy: 0.5577 - val_loss: 59.3280 - val_accuracy: 0.4608\n",
      "Epoch 60/100\n",
      "177/177 [==============================] - 1s 8ms/step - loss: 31.8368 - accuracy: 0.5522 - val_loss: 17.8492 - val_accuracy: 0.5320\n",
      "Epoch 61/100\n",
      "177/177 [==============================] - 2s 9ms/step - loss: 26.7191 - accuracy: 0.5497 - val_loss: 17.4170 - val_accuracy: 0.5837\n",
      "Epoch 62/100\n",
      "177/177 [==============================] - 2s 9ms/step - loss: 27.4453 - accuracy: 0.5571 - val_loss: 31.2009 - val_accuracy: 0.4957\n",
      "Epoch 63/100\n",
      "177/177 [==============================] - 2s 9ms/step - loss: 35.1424 - accuracy: 0.5438 - val_loss: 17.8970 - val_accuracy: 0.6027\n",
      "Epoch 64/100\n",
      "177/177 [==============================] - 2s 9ms/step - loss: 26.1563 - accuracy: 0.5537 - val_loss: 18.7985 - val_accuracy: 0.5560\n",
      "Epoch 65/100\n",
      "177/177 [==============================] - 2s 9ms/step - loss: 26.5603 - accuracy: 0.5586 - val_loss: 12.8254 - val_accuracy: 0.5868\n",
      "Epoch 66/100\n",
      "177/177 [==============================] - 2s 9ms/step - loss: 36.3959 - accuracy: 0.5479 - val_loss: 24.0099 - val_accuracy: 0.5102\n",
      "Epoch 67/100\n",
      "177/177 [==============================] - 2s 9ms/step - loss: 22.0442 - accuracy: 0.5579 - val_loss: 22.2326 - val_accuracy: 0.5628\n",
      "Epoch 68/100\n",
      "177/177 [==============================] - 2s 9ms/step - loss: 22.2551 - accuracy: 0.5640 - val_loss: 12.6078 - val_accuracy: 0.5410\n",
      "Epoch 69/100\n",
      "177/177 [==============================] - 2s 9ms/step - loss: 39.3751 - accuracy: 0.5458 - val_loss: 57.7480 - val_accuracy: 0.5855\n",
      "Epoch 70/100\n",
      "177/177 [==============================] - 2s 10ms/step - loss: 27.7214 - accuracy: 0.5512 - val_loss: 13.5297 - val_accuracy: 0.5646\n",
      "Epoch 71/100\n",
      "177/177 [==============================] - 2s 9ms/step - loss: 24.4114 - accuracy: 0.5631 - val_loss: 56.5938 - val_accuracy: 0.4925\n",
      "Epoch 72/100\n",
      "177/177 [==============================] - 2s 10ms/step - loss: 33.1825 - accuracy: 0.5426 - val_loss: 23.4408 - val_accuracy: 0.6063\n",
      "Epoch 73/100\n",
      "177/177 [==============================] - 1s 8ms/step - loss: 28.3688 - accuracy: 0.5576 - val_loss: 53.0490 - val_accuracy: 0.4930\n",
      "Epoch 74/100\n",
      "177/177 [==============================] - 2s 9ms/step - loss: 26.0227 - accuracy: 0.5497 - val_loss: 37.4733 - val_accuracy: 0.5193\n",
      "Epoch 75/100\n",
      "177/177 [==============================] - 2s 9ms/step - loss: 25.2276 - accuracy: 0.5588 - val_loss: 36.4676 - val_accuracy: 0.5197\n",
      "Epoch 76/100\n",
      "177/177 [==============================] - 2s 9ms/step - loss: 25.8641 - accuracy: 0.5632 - val_loss: 6.8656 - val_accuracy: 0.5923\n",
      "Epoch 77/100\n",
      "177/177 [==============================] - 1s 8ms/step - loss: 24.6436 - accuracy: 0.5618 - val_loss: 31.3894 - val_accuracy: 0.5283\n",
      "Epoch 78/100\n",
      "177/177 [==============================] - 2s 9ms/step - loss: 27.5293 - accuracy: 0.5539 - val_loss: 59.4442 - val_accuracy: 0.5859\n",
      "Epoch 79/100\n",
      "177/177 [==============================] - 2s 10ms/step - loss: 22.8984 - accuracy: 0.5681 - val_loss: 45.7885 - val_accuracy: 0.5950\n",
      "Epoch 80/100\n",
      "177/177 [==============================] - 1s 8ms/step - loss: 24.8329 - accuracy: 0.5582 - val_loss: 18.8478 - val_accuracy: 0.5728\n",
      "Epoch 81/100\n",
      "177/177 [==============================] - 2s 9ms/step - loss: 20.0022 - accuracy: 0.5669 - val_loss: 29.4987 - val_accuracy: 0.5850\n",
      "Epoch 82/100\n",
      "177/177 [==============================] - 2s 9ms/step - loss: 26.2214 - accuracy: 0.5599 - val_loss: 20.9035 - val_accuracy: 0.6014\n",
      "Epoch 83/100\n",
      "177/177 [==============================] - 2s 10ms/step - loss: 17.8269 - accuracy: 0.5704 - val_loss: 15.6138 - val_accuracy: 0.6132\n",
      "Epoch 84/100\n",
      "177/177 [==============================] - 1s 7ms/step - loss: 25.4454 - accuracy: 0.5616 - val_loss: 9.0912 - val_accuracy: 0.5909\n",
      "Epoch 85/100\n",
      "177/177 [==============================] - 2s 9ms/step - loss: 25.6081 - accuracy: 0.5629 - val_loss: 28.9729 - val_accuracy: 0.5052\n",
      "Epoch 86/100\n",
      "177/177 [==============================] - 2s 9ms/step - loss: 22.9854 - accuracy: 0.5712 - val_loss: 20.4770 - val_accuracy: 0.6349\n",
      "Epoch 87/100\n",
      "177/177 [==============================] - 2s 9ms/step - loss: 24.7960 - accuracy: 0.5700 - val_loss: 33.4759 - val_accuracy: 0.4626\n",
      "Epoch 88/100\n",
      "177/177 [==============================] - 2s 9ms/step - loss: 20.7313 - accuracy: 0.5684 - val_loss: 26.6156 - val_accuracy: 0.5315\n",
      "Epoch 89/100\n",
      "177/177 [==============================] - 2s 9ms/step - loss: 24.2262 - accuracy: 0.5616 - val_loss: 8.9403 - val_accuracy: 0.5946\n",
      "Epoch 90/100\n",
      "177/177 [==============================] - 2s 9ms/step - loss: 28.7917 - accuracy: 0.5532 - val_loss: 52.5303 - val_accuracy: 0.4934\n",
      "Epoch 91/100\n",
      "177/177 [==============================] - 2s 9ms/step - loss: 24.8219 - accuracy: 0.5582 - val_loss: 18.1233 - val_accuracy: 0.5751\n",
      "Epoch 92/100\n",
      "177/177 [==============================] - 2s 9ms/step - loss: 30.3454 - accuracy: 0.5594 - val_loss: 19.2715 - val_accuracy: 0.6073\n",
      "Epoch 93/100\n",
      "177/177 [==============================] - 2s 9ms/step - loss: 20.8733 - accuracy: 0.5664 - val_loss: 18.8843 - val_accuracy: 0.5773\n",
      "Epoch 94/100\n",
      "177/177 [==============================] - 2s 9ms/step - loss: 23.3844 - accuracy: 0.5606 - val_loss: 14.2110 - val_accuracy: 0.6209\n",
      "Epoch 95/100\n",
      "177/177 [==============================] - 2s 11ms/step - loss: 26.2236 - accuracy: 0.5601 - val_loss: 10.5692 - val_accuracy: 0.5723\n",
      "Epoch 96/100\n",
      "177/177 [==============================] - 2s 10ms/step - loss: 30.5991 - accuracy: 0.5652 - val_loss: 23.3153 - val_accuracy: 0.5016\n",
      "Epoch 97/100\n",
      "177/177 [==============================] - 2s 10ms/step - loss: 23.4323 - accuracy: 0.5664 - val_loss: 32.9464 - val_accuracy: 0.5116\n",
      "Epoch 98/100\n",
      "177/177 [==============================] - 2s 8ms/step - loss: 23.6333 - accuracy: 0.5568 - val_loss: 13.7153 - val_accuracy: 0.5914\n",
      "Epoch 99/100\n",
      "177/177 [==============================] - 1s 8ms/step - loss: 20.4007 - accuracy: 0.5678 - val_loss: 21.7833 - val_accuracy: 0.5528\n",
      "Epoch 100/100\n",
      "177/177 [==============================] - 1s 4ms/step - loss: 28.2788 - accuracy: 0.5569 - val_loss: 11.1626 - val_accuracy: 0.5533\n"
     ]
    },
    {
     "data": {
      "text/plain": [
       "<keras.src.callbacks.History at 0x1cbc8584e80>"
      ]
     },
     "execution_count": 40,
     "metadata": {},
     "output_type": "execute_result"
    }
   ],
   "source": [
    "model.fit(X_train,y_train,batch_size=50,epochs=100,verbose=1,validation_split=0.2)"
   ]
  },
  {
   "cell_type": "code",
   "execution_count": 41,
   "id": "ba53f425",
   "metadata": {},
   "outputs": [
    {
     "name": "stdout",
     "output_type": "stream",
     "text": [
      "87/87 [==============================] - 1s 3ms/step\n"
     ]
    }
   ],
   "source": [
    "y_log = model.predict(X_test_trf)"
   ]
  },
  {
   "cell_type": "code",
   "execution_count": 42,
   "id": "93f085b4",
   "metadata": {},
   "outputs": [],
   "source": [
    "y_pred = np.where(y_log>0.5,1,0)"
   ]
  },
  {
   "cell_type": "code",
   "execution_count": 45,
   "id": "2c997917",
   "metadata": {},
   "outputs": [
    {
     "data": {
      "text/plain": [
       "0.636066763425254"
      ]
     },
     "execution_count": 45,
     "metadata": {},
     "output_type": "execute_result"
    }
   ],
   "source": [
    "from sklearn.metrics import accuracy_score,classification_report\n",
    "accuracy_score(y_test,y_pred)"
   ]
  },
  {
   "cell_type": "code",
   "execution_count": 46,
   "id": "6163fd35",
   "metadata": {},
   "outputs": [
    {
     "name": "stdout",
     "output_type": "stream",
     "text": [
      "              precision    recall  f1-score   support\n",
      "\n",
      "           0       0.67      0.60      0.64      1459\n",
      "           1       0.60      0.67      0.63      1297\n",
      "\n",
      "    accuracy                           0.64      2756\n",
      "   macro avg       0.64      0.64      0.64      2756\n",
      "weighted avg       0.64      0.64      0.64      2756\n",
      "\n"
     ]
    }
   ],
   "source": [
    "print(classification_report(y_pred,y_test))"
   ]
  },
  {
   "cell_type": "code",
   "execution_count": null,
   "id": "356aa45a",
   "metadata": {},
   "outputs": [],
   "source": []
  }
 ],
 "metadata": {
  "kernelspec": {
   "display_name": "Python 3 (ipykernel)",
   "language": "python",
   "name": "python3"
  },
  "language_info": {
   "codemirror_mode": {
    "name": "ipython",
    "version": 3
   },
   "file_extension": ".py",
   "mimetype": "text/x-python",
   "name": "python",
   "nbconvert_exporter": "python",
   "pygments_lexer": "ipython3",
   "version": "3.9.12"
  }
 },
 "nbformat": 4,
 "nbformat_minor": 5
}
